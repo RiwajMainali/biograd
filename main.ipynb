{
 "cells": [
  {
   "cell_type": "code",
   "execution_count": null,
   "id": "08bae9ee",
   "metadata": {},
   "outputs": [],
   "source": [
    "import numpy as np\n",
    "import matplotlib.pyplot as plt\n",
    "import torch\n",
    "from torchvision import datasets as datasets\n",
    "from torchvision.transforms import ToTensor \n"
   ]
  },
  {
   "cell_type": "code",
   "execution_count": null,
   "id": "fa87ebd6",
   "metadata": {},
   "outputs": [],
   "source": [
    "train = datasets.FashionMNIST(\"\", download = True, train = True, transform = ToTensor())\n",
    "test = datasets.FashionMNIST(\"\", download = True, train = False, transform = ToTensor())"
   ]
  },
  {
   "cell_type": "code",
   "execution_count": null,
   "id": "e3bcb3ca",
   "metadata": {},
   "outputs": [],
   "source": [
    "train[12][0][0]"
   ]
  },
  {
   "cell_type": "code",
   "execution_count": null,
   "id": "f40a59ae",
   "metadata": {},
   "outputs": [],
   "source": [
    "first_img = np.array(train[0][0], dtype = 'float')\n",
    "pixels = first_img.reshape((28,28))\n",
    "# plt.imshow(pixels, cmap = 'Greys')\n",
    "# plt.title(train[0][1])\n",
    "# plt.show()\n",
    "\n"
   ]
  },
  {
   "cell_type": "code",
   "execution_count": null,
   "id": "be4cf009",
   "metadata": {},
   "outputs": [],
   "source": [
    "from micrograd.engine import Value\n",
    "from micrograd.nn import Neuron, Layer, MLP"
   ]
  },
  {
   "cell_type": "code",
   "execution_count": null,
   "id": "436ff375",
   "metadata": {
    "scrolled": true
   },
   "outputs": [],
   "source": [
    "model = MLP(4, [10, 16, 16, 10])\n",
    "print(model)\n",
    "print(len(model.parameters()))"
   ]
  },
  {
   "cell_type": "code",
   "execution_count": null,
   "id": "57fa3764",
   "metadata": {},
   "outputs": [],
   "source": [
    "for k in range(20):\n",
    "    ypred = [model(x) for x in train[x][0][0]]\n",
    "    loss = sum((yout - ygt)**2 for ygt, yout in zip (ys, ypred))"
   ]
  }
 ],
 "metadata": {
  "kernelspec": {
   "display_name": "Python 3 (ipykernel)",
   "language": "python",
   "name": "python3"
  },
  "language_info": {
   "codemirror_mode": {
    "name": "ipython",
    "version": 3
   },
   "file_extension": ".py",
   "mimetype": "text/x-python",
   "name": "python",
   "nbconvert_exporter": "python",
   "pygments_lexer": "ipython3",
   "version": "3.9.12"
  }
 },
 "nbformat": 4,
 "nbformat_minor": 5
}
